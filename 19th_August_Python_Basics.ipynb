{
 "cells": [
  {
   "cell_type": "code",
   "execution_count": 2,
   "id": "06e6c2ef",
   "metadata": {},
   "outputs": [
    {
     "name": "stdout",
     "output_type": "stream",
     "text": [
      "enter the value of x:5\n",
      "enter the value of y:10\n",
      "x= 10\n",
      "y= 5\n"
     ]
    }
   ],
   "source": [
    "x=input(\"enter the value of x:\")\n",
    "y=input(\"enter the value of y:\")\n",
    "x,y=y,x\n",
    "print(\"x=\", x)\n",
    "print(\"y=\", y)"
   ]
  },
  {
   "cell_type": "code",
   "execution_count": 15,
   "id": "141cc5e4",
   "metadata": {},
   "outputs": [
    {
     "name": "stdout",
     "output_type": "stream",
     "text": [
      "enter the length:15\n",
      "enter the width:10\n",
      "150.0\n"
     ]
    }
   ],
   "source": [
    "length=float(input(\"enter the length:\"))\n",
    "width=float(input(\"enter the width:\"))\n",
    "area = (length*width)\n",
    "print(area)"
   ]
  },
  {
   "cell_type": "code",
   "execution_count": 18,
   "id": "dbd4d9f2",
   "metadata": {},
   "outputs": [
    {
     "name": "stdout",
     "output_type": "stream",
     "text": [
      "enter the temperature in celsius:92.8\n",
      "Temperature in Fahrenheit. 199.04\n"
     ]
    }
   ],
   "source": [
    "temperature =float(input(\"enter the temperature in celsius:\"))\n",
    "convert = (temperature*(9/5) +32)\n",
    "print(\"Temperature in Fahrenheit.\",convert)"
   ]
  },
  {
   "cell_type": "code",
   "execution_count": 22,
   "id": "facb2b41",
   "metadata": {
    "scrolled": true
   },
   "outputs": [
    {
     "name": "stdout",
     "output_type": "stream",
     "text": [
      "enter the string:thirdeye\n",
      "8\n"
     ]
    }
   ],
   "source": [
    "string = input(\"enter the string:\")\n",
    "a = len(string)\n",
    "print(a)"
   ]
  },
  {
   "cell_type": "code",
   "execution_count": 5,
   "id": "4f96b589",
   "metadata": {},
   "outputs": [
    {
     "name": "stdout",
     "output_type": "stream",
     "text": [
      "Enter string:this is a code\n",
      "Number of vowels are: 5\n"
     ]
    }
   ],
   "source": [
    "string=input(\"Enter string:\")\n",
    "vowels=0\n",
    "for i in string:\n",
    "      if(i=='a' or i=='e' or i=='i' or i=='o' or i=='u' or i=='A' or i=='E' or i=='I' or i=='O' or i=='U'):\n",
    "            vowels=vowels+1\n",
    "print(\"Number of vowels are:\", vowels)"
   ]
  },
  {
   "cell_type": "code",
   "execution_count": 2,
   "id": "4581ca66",
   "metadata": {},
   "outputs": [
    {
     "name": "stdout",
     "output_type": "stream",
     "text": [
      "this is a code\n",
      "edoc a si siht\n"
     ]
    }
   ],
   "source": [
    "String = input()\n",
    "print(String[::-1])"
   ]
  },
  {
   "cell_type": "code",
   "execution_count": 3,
   "id": "66779514",
   "metadata": {},
   "outputs": [
    {
     "name": "stdout",
     "output_type": "stream",
     "text": [
      "pranav\n",
      "no\n"
     ]
    }
   ],
   "source": [
    "def ispalindrome(String):\n",
    "    return String == String[::-1]\n",
    "String = input()\n",
    "final = ispalindrome(String)\n",
    "if final:\n",
    "    print(\"yes\")\n",
    "else:\n",
    "    print(\"no\")"
   ]
  },
  {
   "cell_type": "code",
   "execution_count": 4,
   "id": "7c2dfe6f",
   "metadata": {},
   "outputs": [
    {
     "name": "stdout",
     "output_type": "stream",
     "text": [
      "p ranv is m y n a me\n",
      "pranvismyname\n"
     ]
    }
   ],
   "source": [
    "def remove_space(String):\n",
    "    String = String.replace(' ','')\n",
    "    return String\n",
    "String = input()\n",
    "print(remove_space(String))"
   ]
  }
 ],
 "metadata": {
  "kernelspec": {
   "display_name": "Python 3",
   "language": "python",
   "name": "python3"
  },
  "language_info": {
   "codemirror_mode": {
    "name": "ipython",
    "version": 3
   },
   "file_extension": ".py",
   "mimetype": "text/x-python",
   "name": "python",
   "nbconvert_exporter": "python",
   "pygments_lexer": "ipython3",
   "version": "3.8.8"
  }
 },
 "nbformat": 4,
 "nbformat_minor": 5
}
